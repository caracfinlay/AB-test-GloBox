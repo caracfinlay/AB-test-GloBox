{
 "cells": [
  {
   "cell_type": "code",
   "execution_count": 11,
   "metadata": {},
   "outputs": [],
   "source": [
    "import numpy as np\n",
    "import pandas as pd\n",
    "from scipy.stats import t\n",
    "from scipy.stats import ttest_ind\n",
    "import scipy.stats as stats\n",
    "from scipy.stats import norm\n",
    "import matplotlib.pyplot as plt\n",
    "%matplotlib inline"
   ]
  },
  {
   "cell_type": "code",
   "execution_count": 2,
   "metadata": {},
   "outputs": [],
   "source": [
    "df = pd.read_csv(\"query_results.csv\")"
   ]
  },
  {
   "cell_type": "code",
   "execution_count": 3,
   "metadata": {},
   "outputs": [
    {
     "data": {
      "text/html": [
       "<div>\n",
       "<style scoped>\n",
       "    .dataframe tbody tr th:only-of-type {\n",
       "        vertical-align: middle;\n",
       "    }\n",
       "\n",
       "    .dataframe tbody tr th {\n",
       "        vertical-align: top;\n",
       "    }\n",
       "\n",
       "    .dataframe thead th {\n",
       "        text-align: right;\n",
       "    }\n",
       "</style>\n",
       "<table border=\"1\" class=\"dataframe\">\n",
       "  <thead>\n",
       "    <tr style=\"text-align: right;\">\n",
       "      <th></th>\n",
       "      <th>id</th>\n",
       "      <th>group</th>\n",
       "      <th>total_spent_per_user</th>\n",
       "    </tr>\n",
       "  </thead>\n",
       "  <tbody>\n",
       "    <tr>\n",
       "      <th>0</th>\n",
       "      <td>1014313</td>\n",
       "      <td>B</td>\n",
       "      <td>0.0</td>\n",
       "    </tr>\n",
       "    <tr>\n",
       "      <th>1</th>\n",
       "      <td>1029532</td>\n",
       "      <td>B</td>\n",
       "      <td>0.0</td>\n",
       "    </tr>\n",
       "    <tr>\n",
       "      <th>2</th>\n",
       "      <td>1018168</td>\n",
       "      <td>A</td>\n",
       "      <td>0.0</td>\n",
       "    </tr>\n",
       "    <tr>\n",
       "      <th>3</th>\n",
       "      <td>1029599</td>\n",
       "      <td>A</td>\n",
       "      <td>0.0</td>\n",
       "    </tr>\n",
       "    <tr>\n",
       "      <th>4</th>\n",
       "      <td>1025920</td>\n",
       "      <td>B</td>\n",
       "      <td>0.0</td>\n",
       "    </tr>\n",
       "  </tbody>\n",
       "</table>\n",
       "</div>"
      ],
      "text/plain": [
       "        id group  total_spent_per_user\n",
       "0  1014313     B                   0.0\n",
       "1  1029532     B                   0.0\n",
       "2  1018168     A                   0.0\n",
       "3  1029599     A                   0.0\n",
       "4  1025920     B                   0.0"
      ]
     },
     "execution_count": 3,
     "metadata": {},
     "output_type": "execute_result"
    }
   ],
   "source": [
    "df.head()"
   ]
  },
  {
   "attachments": {},
   "cell_type": "markdown",
   "metadata": {},
   "source": [
    "# $H_0$: The control and treatment group's average spent will remain the same. "
   ]
  },
  {
   "cell_type": "code",
   "execution_count": 33,
   "metadata": {},
   "outputs": [],
   "source": [
    "def get_mean_and_se(df, col):\n",
    "\n",
    "    mean = df[col].mean()\n",
    "    se = df[col].std()/np.sqrt(len(df))\n",
    "    return mean, se"
   ]
  },
  {
   "cell_type": "code",
   "execution_count": 34,
   "metadata": {},
   "outputs": [],
   "source": [
    "df_a = df[df[\"group\"]==\"A\"]\n",
    "\n",
    "df_b = df[df[\"group\"]==\"B\"]\n",
    "\n",
    "mean_a, std_a = get_mean_and_se(df_a, \"total_spent_per_user\")\n",
    "\n",
    "mean_b, std_b = get_mean_and_se(df_b, \"total_spent_per_user\")\n",
    "\n",
    "sig = 0.05\n"
   ]
  },
  {
   "cell_type": "code",
   "execution_count": 35,
   "metadata": {},
   "outputs": [],
   "source": [
    "def critical_value(sig, dof, test_kind='two-tail'):\n",
    "    '''Calculate critical value for various tests.\n",
    "\n",
    "    Parameters:\n",
    "    -----------\n",
    "    sig: float\n",
    "        Significance level between 0 and 1 e.g. 0.05\n",
    "    dof: int\n",
    "        Degrees of freedom i.e. number of data points - 1\n",
    "    test_kind: string\n",
    "        Type of test i.e. left, right, two-tail. \n",
    "\n",
    "    Returns: \n",
    "    --------\n",
    "    critical_value: float \n",
    "        The critical value.'''\n",
    "\n",
    "    if test_kind == 'left':\n",
    "        crit = t.ppf(q=sig, df=dof)\n",
    "    elif test_kind == 'right':\n",
    "        crit = t.ppf(q=1-sig, df=dof)\n",
    "    else:\n",
    "        crit = t.ppf(q=1-sig/2, df=dof)\n",
    "    return crit"
   ]
  },
  {
   "cell_type": "code",
   "execution_count": 36,
   "metadata": {},
   "outputs": [],
   "source": [
    "critical_a = critical_value(sig, dof=len(df_a) - 1)\n",
    "critical_b = critical_value(sig, dof=len(df_b) - 1)"
   ]
  },
  {
   "cell_type": "code",
   "execution_count": 37,
   "metadata": {},
   "outputs": [],
   "source": [
    "def confidence_interval(mean, se, critical_value):\n",
    "    ''' '''\n",
    "\n",
    "    lower = mean - critical_value * se\n",
    "    upper = mean + critical_value * se\n",
    "    return lower, upper "
   ]
  },
  {
   "cell_type": "code",
   "execution_count": 49,
   "metadata": {},
   "outputs": [
    {
     "name": "stdout",
     "output_type": "stream",
     "text": [
      "Group A: [3.049 3.7  ]\n",
      "Group B: 3.073, 3.708\n"
     ]
    }
   ],
   "source": [
    "confidence_interval_a = confidence_interval(mean_a, std_a, critical_a)\n",
    "confidence_interval_b = confidence_interval(mean_b, std_b, critical_b)\n",
    "\n",
    "\n",
    "print(f'Group A: {np.round(confidence_interval_a, 3)}')\n",
    "print('Group B: {:.4}, {:.4}'.format(*confidence_interval_b))"
   ]
  },
  {
   "cell_type": "code",
   "execution_count": null,
   "metadata": {},
   "outputs": [],
   "source": []
  }
 ],
 "metadata": {
  "kernelspec": {
   "display_name": "Python 3",
   "language": "python",
   "name": "python3"
  },
  "language_info": {
   "codemirror_mode": {
    "name": "ipython",
    "version": 3
   },
   "file_extension": ".py",
   "mimetype": "text/x-python",
   "name": "python",
   "nbconvert_exporter": "python",
   "pygments_lexer": "ipython3",
   "version": "3.9.15"
  },
  "orig_nbformat": 4
 },
 "nbformat": 4,
 "nbformat_minor": 2
}
