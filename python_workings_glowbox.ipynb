{
 "cells": [
  {
   "cell_type": "code",
   "execution_count": 83,
   "metadata": {},
   "outputs": [],
   "source": [
    "\n",
    "\n",
    "import numpy as np\n",
    "import pandas as pd\n",
    "from scipy.stats import t\n",
    "from scipy.stats import ttest_ind\n",
    "import scipy.stats as stats\n",
    "from scipy.stats import norm\n",
    "import matplotlib.pyplot as plt\n",
    "%matplotlib inline"
   ]
  },
  {
   "attachments": {},
   "cell_type": "markdown",
   "metadata": {},
   "source": [
    "Paired T-test: mean difference accross one populations e.g. one population trying two difference shoes. Take a sample and for each subject in \n",
    "the sample perform two measurements, then calculate a mean difference. Calculate the difference for each subject in the sample then take the mean of all them. \n",
    "\n",
    "Two sample T-test: two independent populations therefore two independent samples, take two statistics and compare both means, the difference of the means separately. mu1 - mu2\n",
    "\n",
    "Conditions for constructing a t interval:\n",
    "- The data is a random sample from the population of interest\n",
    "- The sampling distribution of the mean is approx. normal\n",
    "    - n >= 30 (central limit theorem)\n",
    "    - orig. distribution normal\n",
    "    - approx. symmetric (not skewed)\n",
    "- Individual observations can be considered independent\n",
    "    - sample with replacement\n",
    "    - if sampling without replacement, then we need to follow the 10% rule: the sample n needs to be 10% or less than the whole population\n",
    "Reference: Conditions for inference on a mean https://www.khanacademy.org/math/ap-statistics/xfb5d8e68:inference-quantitative-means/one-sample-t-interval-mean/a/reference-conditions-inference-one-mean\n",
    "\n",
    "\n"
   ]
  },
  {
   "cell_type": "code",
   "execution_count": 84,
   "metadata": {},
   "outputs": [],
   "source": [
    "df = pd.read_csv(\"query_results.csv\")"
   ]
  },
  {
   "cell_type": "code",
   "execution_count": 85,
   "metadata": {},
   "outputs": [
    {
     "data": {
      "text/html": [
       "<div>\n",
       "<style scoped>\n",
       "    .dataframe tbody tr th:only-of-type {\n",
       "        vertical-align: middle;\n",
       "    }\n",
       "\n",
       "    .dataframe tbody tr th {\n",
       "        vertical-align: top;\n",
       "    }\n",
       "\n",
       "    .dataframe thead th {\n",
       "        text-align: right;\n",
       "    }\n",
       "</style>\n",
       "<table border=\"1\" class=\"dataframe\">\n",
       "  <thead>\n",
       "    <tr style=\"text-align: right;\">\n",
       "      <th></th>\n",
       "      <th>id</th>\n",
       "      <th>group</th>\n",
       "      <th>total_spent_per_user</th>\n",
       "    </tr>\n",
       "  </thead>\n",
       "  <tbody>\n",
       "    <tr>\n",
       "      <th>0</th>\n",
       "      <td>1014313</td>\n",
       "      <td>B</td>\n",
       "      <td>0.0</td>\n",
       "    </tr>\n",
       "    <tr>\n",
       "      <th>1</th>\n",
       "      <td>1029532</td>\n",
       "      <td>B</td>\n",
       "      <td>0.0</td>\n",
       "    </tr>\n",
       "    <tr>\n",
       "      <th>2</th>\n",
       "      <td>1018168</td>\n",
       "      <td>A</td>\n",
       "      <td>0.0</td>\n",
       "    </tr>\n",
       "    <tr>\n",
       "      <th>3</th>\n",
       "      <td>1029599</td>\n",
       "      <td>A</td>\n",
       "      <td>0.0</td>\n",
       "    </tr>\n",
       "    <tr>\n",
       "      <th>4</th>\n",
       "      <td>1025920</td>\n",
       "      <td>B</td>\n",
       "      <td>0.0</td>\n",
       "    </tr>\n",
       "  </tbody>\n",
       "</table>\n",
       "</div>"
      ],
      "text/plain": [
       "        id group  total_spent_per_user\n",
       "0  1014313     B                   0.0\n",
       "1  1029532     B                   0.0\n",
       "2  1018168     A                   0.0\n",
       "3  1029599     A                   0.0\n",
       "4  1025920     B                   0.0"
      ]
     },
     "execution_count": 85,
     "metadata": {},
     "output_type": "execute_result"
    }
   ],
   "source": [
    "df.head()"
   ]
  },
  {
   "attachments": {},
   "cell_type": "markdown",
   "metadata": {},
   "source": [
    "# $H_0$: The control and treatment group's average spent will remain the same. "
   ]
  },
  {
   "cell_type": "code",
   "execution_count": 86,
   "metadata": {},
   "outputs": [],
   "source": [
    "def get_mean_and_se(df, col):\n",
    "\n",
    "    mean = df[col].mean()\n",
    "    se = df[col].std()/np.sqrt(len(df))\n",
    "    return mean, se"
   ]
  },
  {
   "cell_type": "code",
   "execution_count": 88,
   "metadata": {},
   "outputs": [],
   "source": [
    "def critical_value(sig, dof, test_kind='two-tail'):\n",
    "    '''Calculate critical value for various tests.\n",
    "\n",
    "    Parameters:\n",
    "    -----------\n",
    "    sig: float\n",
    "        Significance level between 0 and 1 e.g. 0.05\n",
    "    dof: int\n",
    "        Degrees of freedom i.e. number of data points - 1\n",
    "    test_kind: string\n",
    "        Type of test i.e. left, right, two-tail. \n",
    "        Default is two-tail. \n",
    "\n",
    "    Returns: \n",
    "    --------\n",
    "    critical_value: float \n",
    "        The critical value.'''\n",
    "    from scipy.stats import t\n",
    "    if test_kind == 'left':\n",
    "        crit = t.ppf(q=sig, df=dof)\n",
    "    elif test_kind == 'right':\n",
    "        crit = t.ppf(q=1-sig, df=dof)\n",
    "    else:\n",
    "        print(f'{sig=} {dof=}')\n",
    "        crit = t.ppf(q=1-sig/2, df=dof)\n",
    "    return crit"
   ]
  },
  {
   "cell_type": "code",
   "execution_count": 90,
   "metadata": {},
   "outputs": [],
   "source": [
    "def confidence_interval(mean, se, critical_value):\n",
    "    ''' '''\n",
    "\n",
    "    lower = mean - critical_value * se\n",
    "    upper = mean + critical_value * se\n",
    "    return lower, upper "
   ]
  },
  {
   "attachments": {},
   "cell_type": "markdown",
   "metadata": {},
   "source": [
    "## Hypothesis Test for a Mean\n",
    "\n",
    "One-sample two-sided t-test"
   ]
  },
  {
   "cell_type": "code",
   "execution_count": 98,
   "metadata": {},
   "outputs": [],
   "source": [
    "def t_test_statistic_1_samp (sample, sample_col, hypothesis_mean):\n",
    "    '''Calculates a t-test for one sample.\n",
    "       T = (x̄ - μ₀) / (s / √n)\n",
    "     \n",
    "    Parameters:\n",
    "    -----------\n",
    "    sample: df\n",
    "        This is you sample dataframe.\n",
    "    sample_col: string\n",
    "        This is the column to be aggregated. \n",
    "    hypothesis_mean: float\n",
    "        μ₀: This is the hypothesized population mean, which is the value you want to test against.\n",
    "    \n",
    "    Returns:\n",
    "    --------\n",
    "    T: float\n",
    "        This is the calculated t-value, which measures the difference between the sample mean (x̄) \n",
    "        and the hypothesized population mean (μ₀) in units of the standard error of the sample mean.\n",
    "        The resulting t-value is compared to a t-distribution to determine the probability of \n",
    "        observing such a large difference between the sample mean and the hypothesized population mean \n",
    "        by chance alone. If this probability is low enough (usually set at a significance level of 0.05), \n",
    "        we reject the null hypothesis that the sample mean is not significantly different \n",
    "        from the hypothesized population mean.\n",
    "    \n",
    "    '''\n",
    "    sample_n = len(sample)\n",
    "    mean, se = get_mean_and_se(sample, sample_col)\n",
    "\n",
    "    t_1_samp = (mean - hypothesis_mean) / (se*np.sqrt(sample_n) / np.sqrt(sample_n))\n",
    "    return t_1_samp"
   ]
  },
  {
   "cell_type": "code",
   "execution_count": 93,
   "metadata": {},
   "outputs": [],
   "source": [
    "def t_test_statistic_2_samp (sample_1, sample_2, col_1, col_2, hypothesis_mean=0):\n",
    "    '''Calculates a t-test for two independent samples. which is a statistical test used to determine \n",
    "    whether two groups of data are significantly different from each other.\n",
    "    \n",
    "    Parameters:\n",
    "    -----------\n",
    "    sample_1: dataframe\n",
    "        This is the first dataframe used for computing the mean and standard error.\n",
    "    sample_2: dataframe\n",
    "        This is the second dataframe used for computing the mean and standard error.\n",
    "    col_1: string\n",
    "        This is the column used for analysis within the first dataframe.\n",
    "    col_2: string\n",
    "        This is the column used for analysis within the second dataframe. \n",
    "    hypothsis_mean: float\n",
    "        Represents the null hypothesis mean, which is the value being tested against the sample means to \n",
    "        determine whether the difference between them is statistically significant. \n",
    "        The default is 0. \n",
    "\n",
    "\n",
    "    Returns:\n",
    "    --------\n",
    "    \n",
    "    '''\n",
    "    mean_1, se_1 = get_mean_and_se(sample_1, col_1)\n",
    "    mean_2, se_2 = get_mean_and_se(sample_2, col_2)\n",
    "\n",
    "    t = ((mean_1 - mean_2) - hypothesis_mean) / np.sqrt((se_1**2 + se_2**2))\n",
    "    return t\n"
   ]
  },
  {
   "cell_type": "code",
   "execution_count": null,
   "metadata": {},
   "outputs": [],
   "source": [
    "def confidence_interval_diff_mean(control_sample, treamtent_sample, col_1, col_2, sig):\n",
    "    ''' '''\n",
    "\n",
    "    control_mean, se_1 = get_mean_and_se(control_sample, col_1)\n",
    "    treatment_mean, se_2 = get_mean_and_se(treamtent_sample, col_2)\n",
    "    dof = (len(control_sample) - 1) + (len(treamtent_sample) - 1)\n",
    "    test_kind = 'two-tail'\n",
    "\n",
    "\n",
    "    sample_stat = treatment_mean - control_mean\n",
    "    se = np.sqrt(se_1**2 + se_2**2)\n",
    "\n",
    "    crit_value = critical_value(sig, dof, test_kind='two-tail')\n",
    "\n",
    "    lower = sample_stat - crit_value * se\n",
    "    upper = sample_stat + crit_value * se\n",
    "\n",
    "    print(f'{sample_stat=}, {se=}, {crit_value=}')\n",
    "\n",
    "    return lower, upper "
   ]
  },
  {
   "cell_type": "code",
   "execution_count": null,
   "metadata": {},
   "outputs": [
    {
     "name": "stdout",
     "output_type": "stream",
     "text": [
      "sig=0.05 dof=48941\n",
      "sample_stat=0.016348477956938723, se=0.23214055875284462, crit_value=1.9600124577813611\n",
      "(-0.4386499091549627, 0.47134686506884016)\n"
     ]
    }
   ],
   "source": [
    "df_a = df[df[\"group\"]==\"A\"]\n",
    "\n",
    "df_b = df[df[\"group\"]==\"B\"]\n",
    "\n",
    "mean_a, std_a = get_mean_and_se(df_a, \"total_spent_per_user\")\n",
    "\n",
    "mean_b, std_b = get_mean_and_se(df_b, \"total_spent_per_user\")\n",
    "\n",
    "sig = 0.05\n",
    "\n",
    "print(mean_a, mean_b)\n",
    "\n",
    "\n",
    "critical_a = critical_value(sig, dof=len(df_a) - 1)\n",
    "critical_b = critical_value(sig, dof=len(df_b) - 1)\n",
    "\n",
    "confidence_interval_a = confidence_interval(mean_a, std_a, critical_a)\n",
    "confidence_interval_b = confidence_interval(mean_b, std_b, critical_b)\n",
    "\n",
    "\n",
    "print(f'Group A: {np.round(confidence_interval_a, 3)}')\n",
    "print('Group B: {:.4}, {:.4}'.format(*confidence_interval_b))\n",
    "\n",
    "\n",
    "t = t_test_statistic_2_samp(df_a, df_b, 'total_spent_per_user', 'total_spent_per_user', 0)\n",
    "\n",
    "# Conduct t-test assuming unequal variance\n",
    "t_stat, p_val = ttest_ind(df_a['total_spent_per_user'], df_b['total_spent_per_user'], equal_var=False)\n",
    "\n",
    "# Print results\n",
    "print(\"t-statistic: {:.3f}\".format(t_stat))\n",
    "print(\"p-value: {:.3f}\".format(p_val))\n",
    "\n",
    "# Check significance level at 5%\n",
    "if p_val < 0.05:\n",
    "    print(\"Conclusion: Reject the null hypothesis\")\n",
    "else:\n",
    "    print(\"Conclusion: Fail to reject the null hypothesis\")\n",
    "\n",
    "\n",
    "ci_diff_mean = confidence_interval_diff_mean(df_a, df_b, 'total_spent_per_user', 'total_spent_per_user', 0.05)\n",
    "\n",
    "print(ci_diff_mean)\n"
   ]
  },
  {
   "cell_type": "code",
   "execution_count": null,
   "metadata": {},
   "outputs": [],
   "source": []
  },
  {
   "cell_type": "code",
   "execution_count": null,
   "metadata": {},
   "outputs": [
    {
     "data": {
      "text/plain": [
       "(nan, nan)"
      ]
     },
     "execution_count": 43,
     "metadata": {},
     "output_type": "execute_result"
    }
   ],
   "source": []
  },
  {
   "cell_type": "code",
   "execution_count": null,
   "metadata": {},
   "outputs": [
    {
     "data": {
      "text/plain": [
       "4.800000000000001"
      ]
     },
     "execution_count": 48,
     "metadata": {},
     "output_type": "execute_result"
    }
   ],
   "source": []
  },
  {
   "cell_type": "code",
   "execution_count": null,
   "metadata": {},
   "outputs": [],
   "source": []
  }
 ],
 "metadata": {
  "kernelspec": {
   "display_name": "Python 3",
   "language": "python",
   "name": "python3"
  },
  "language_info": {
   "codemirror_mode": {
    "name": "ipython",
    "version": 3
   },
   "file_extension": ".py",
   "mimetype": "text/x-python",
   "name": "python",
   "nbconvert_exporter": "python",
   "pygments_lexer": "ipython3",
   "version": "3.9.15"
  },
  "orig_nbformat": 4
 },
 "nbformat": 4,
 "nbformat_minor": 2
}
