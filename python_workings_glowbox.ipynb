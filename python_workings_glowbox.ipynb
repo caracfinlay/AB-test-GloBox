{
 "cells": [
  {
   "attachments": {},
   "cell_type": "markdown",
   "metadata": {},
   "source": [
    "\n",
    "\n",
    "# Project Overview\n",
    "\n",
    "This project analyzes the results of an A/B test after which we present data-driven recommendations based on our findings.\n"
   ]
  },
  {
   "cell_type": "markdown",
   "metadata": {},
   "source": [
    "\n",
    "# Table of contents\n",
    "\n",
    "- [Project Logistics](#project-background) \n",
    "- [Project Background](#project-background) \n",
    "- [Data preparation](#data-preparation) \n",
    "- [Experiment Design](#experiment-design)\n",
    "- [Functions](#functions) \n",
    "- [Hypothesis Test: Average Spent Per User](#hypothesis-test-average-spent-per-user) \n",
    "- [Hypothesis Test: User Conversion Rate](#hypothesis-test-user-conversion-rate)\n",
    "- [Results]() \n"
   ]
  },
  {
   "cell_type": "markdown",
   "metadata": {},
   "source": [
    "\n",
    "# Project Logistics\n",
    "\n",
    "* **Part 1:** Review inferential statistics and create analysis plan.\n",
    "\n",
    "* **Part 2:** Analyze the A/B test results to determine whether or not the experiments where successfull\n",
    "\n",
    "* **Part 3:** Record a presentation of the A/B test results and create a written report. \n"
   ]
  },
  {
   "attachments": {},
   "cell_type": "markdown",
   "metadata": {},
   "source": [
    "\n",
    "# Project Background \n",
    "\n",
    "The e-commerce company Glowbox specializes in sourcing unique and high-quality prodects from around the world. \n",
    "\n",
    "The company is primarily known amongst its customer base for boutique fashion items and high-end decor products. However, their food and drink offerings have grown tremendously in the last few months, and the company wants to bring awareness to this product category to increase revenue.\n",
    "\n",
    "The Growth team decided to run an A/B test that highlights key products in the food and drink category as a banner at the top of the website. \n",
    "\n",
    "> An A/B test is an experimentation technique used by businesses to compare two versions of a webpage, advertisement, or product feature to determine which one performs better. By randomly assigning customers or users to either the A or B version, the business can determine which version is more effective at achieving a particular goal.\n"
   ]
  },
  {
   "attachments": {},
   "cell_type": "markdown",
   "metadata": {},
   "source": [
    "<div>\n",
    "<img src=\"gloxbox_banner.png\" width=\"700\"/>\n",
    "</div>"
   ]
  },
  {
   "cell_type": "markdown",
   "metadata": {},
   "source": [
    "\n",
    "# Data Preparation\n",
    "\n"
   ]
  },
  {
   "cell_type": "markdown",
   "metadata": {},
   "source": [
    "# Experiment Design"
   ]
  },
  {
   "cell_type": "markdown",
   "metadata": {},
   "source": [
    "# Functions "
   ]
  },
  {
   "cell_type": "code",
   "execution_count": 103,
   "metadata": {},
   "outputs": [],
   "source": [
    "\n",
    "\n",
    "import numpy as np\n",
    "import pandas as pd\n",
    "from scipy.stats import t\n",
    "from scipy.stats import ttest_ind\n",
    "import scipy.stats as stats\n",
    "from scipy.stats import norm\n",
    "import matplotlib.pyplot as plt\n",
    "%matplotlib inline"
   ]
  },
  {
   "attachments": {},
   "cell_type": "markdown",
   "metadata": {},
   "source": [
    "# Hypothesis Test: Average Spent Per User"
   ]
  },
  {
   "cell_type": "markdown",
   "metadata": {},
   "source": [
    "# Hypothesis Test: User Conversion Rate"
   ]
  },
  {
   "cell_type": "code",
   "execution_count": 84,
   "metadata": {},
   "outputs": [],
   "source": [
    "df = pd.read_csv(\"query_results.csv\")"
   ]
  },
  {
   "cell_type": "code",
   "execution_count": 85,
   "metadata": {},
   "outputs": [
    {
     "data": {
      "text/html": [
       "<div>\n",
       "<style scoped>\n",
       "    .dataframe tbody tr th:only-of-type {\n",
       "        vertical-align: middle;\n",
       "    }\n",
       "\n",
       "    .dataframe tbody tr th {\n",
       "        vertical-align: top;\n",
       "    }\n",
       "\n",
       "    .dataframe thead th {\n",
       "        text-align: right;\n",
       "    }\n",
       "</style>\n",
       "<table border=\"1\" class=\"dataframe\">\n",
       "  <thead>\n",
       "    <tr style=\"text-align: right;\">\n",
       "      <th></th>\n",
       "      <th>id</th>\n",
       "      <th>group</th>\n",
       "      <th>total_spent_per_user</th>\n",
       "    </tr>\n",
       "  </thead>\n",
       "  <tbody>\n",
       "    <tr>\n",
       "      <th>0</th>\n",
       "      <td>1014313</td>\n",
       "      <td>B</td>\n",
       "      <td>0.0</td>\n",
       "    </tr>\n",
       "    <tr>\n",
       "      <th>1</th>\n",
       "      <td>1029532</td>\n",
       "      <td>B</td>\n",
       "      <td>0.0</td>\n",
       "    </tr>\n",
       "    <tr>\n",
       "      <th>2</th>\n",
       "      <td>1018168</td>\n",
       "      <td>A</td>\n",
       "      <td>0.0</td>\n",
       "    </tr>\n",
       "    <tr>\n",
       "      <th>3</th>\n",
       "      <td>1029599</td>\n",
       "      <td>A</td>\n",
       "      <td>0.0</td>\n",
       "    </tr>\n",
       "    <tr>\n",
       "      <th>4</th>\n",
       "      <td>1025920</td>\n",
       "      <td>B</td>\n",
       "      <td>0.0</td>\n",
       "    </tr>\n",
       "  </tbody>\n",
       "</table>\n",
       "</div>"
      ],
      "text/plain": [
       "        id group  total_spent_per_user\n",
       "0  1014313     B                   0.0\n",
       "1  1029532     B                   0.0\n",
       "2  1018168     A                   0.0\n",
       "3  1029599     A                   0.0\n",
       "4  1025920     B                   0.0"
      ]
     },
     "execution_count": 85,
     "metadata": {},
     "output_type": "execute_result"
    }
   ],
   "source": [
    "df.head()"
   ]
  },
  {
   "attachments": {},
   "cell_type": "markdown",
   "metadata": {},
   "source": [
    "# $H_0$: The control and treatment group's average spent will remain the same. "
   ]
  },
  {
   "cell_type": "code",
   "execution_count": 86,
   "metadata": {},
   "outputs": [],
   "source": [
    "def get_mean_and_se(df, col):\n",
    "\n",
    "    mean = df[col].mean()\n",
    "    se = df[col].std()/np.sqrt(len(df))\n",
    "    return mean, se"
   ]
  },
  {
   "cell_type": "code",
   "execution_count": 88,
   "metadata": {},
   "outputs": [],
   "source": [
    "def critical_value(sig, dof, test_kind='two-tail'):\n",
    "    '''Calculate critical value for various tests.\n",
    "\n",
    "    Parameters:\n",
    "    -----------\n",
    "    sig: float\n",
    "        Significance level between 0 and 1 e.g. 0.05\n",
    "    dof: int\n",
    "        Degrees of freedom i.e. number of data points - 1\n",
    "    test_kind: string\n",
    "        Type of test i.e. left, right, two-tail. \n",
    "        Default is two-tail. \n",
    "\n",
    "    Returns: \n",
    "    --------\n",
    "    critical_value: float \n",
    "        The critical value.'''\n",
    "    from scipy.stats import t\n",
    "    if test_kind == 'left':\n",
    "        crit = t.ppf(q=sig, df=dof)\n",
    "    elif test_kind == 'right':\n",
    "        crit = t.ppf(q=1-sig, df=dof)\n",
    "    else:\n",
    "        print(f'{sig=} {dof=}')\n",
    "        crit = t.ppf(q=1-sig/2, df=dof)\n",
    "    return crit"
   ]
  },
  {
   "cell_type": "code",
   "execution_count": 90,
   "metadata": {},
   "outputs": [],
   "source": [
    "def confidence_interval(mean, se, critical_value):\n",
    "    ''' '''\n",
    "\n",
    "    lower = mean - critical_value * se\n",
    "    upper = mean + critical_value * se\n",
    "    return lower, upper "
   ]
  },
  {
   "cell_type": "code",
   "execution_count": 99,
   "metadata": {},
   "outputs": [],
   "source": [
    "def t_test_statistic_1_samp (sample, sample_col, hypothesis_mean):\n",
    "    '''Calculates a t-test for one sample.\n",
    "       T = (x̄ - μ₀) / (s / √n)\n",
    "     \n",
    "    Parameters:\n",
    "    -----------\n",
    "    sample: df\n",
    "        This is you sample dataframe.\n",
    "    sample_col: string\n",
    "        This is the column to be aggregated. \n",
    "    hypothesis_mean: float\n",
    "        μ₀: This is the hypothesized population mean, which is the value you want to test against.\n",
    "    \n",
    "    Returns:\n",
    "    --------\n",
    "    T: float\n",
    "        This is the calculated t-value, which measures the difference between the sample mean (x̄) \n",
    "        and the hypothesized population mean (μ₀) in units of the standard error of the sample mean.\n",
    "        The resulting t-value is compared to a t-distribution to determine the probability of \n",
    "        observing such a large difference between the sample mean and the hypothesized population mean \n",
    "        by chance alone. If this probability is low enough (usually set at a significance level of 0.05), \n",
    "        we reject the null hypothesis that the sample mean is not significantly different \n",
    "        from the hypothesized population mean.\n",
    "    \n",
    "    '''\n",
    "    sample_n = len(sample)\n",
    "    mean, se = get_mean_and_se(sample, sample_col)\n",
    "\n",
    "    t_1_samp = (mean - hypothesis_mean) / se\n",
    "    return t_1_samp"
   ]
  },
  {
   "cell_type": "code",
   "execution_count": 93,
   "metadata": {},
   "outputs": [],
   "source": [
    "def t_test_statistic_2_samp (sample_1, sample_2, col_1, col_2, hypothesis_mean=0):\n",
    "    \n",
    "    '''Calculates a t-test for two independent samples. which is a statistical test used to determine \n",
    "    whether two groups of data are significantly different from each other.\n",
    "    \n",
    "    Parameters:\n",
    "    -----------\n",
    "    sample_1: dataframe\n",
    "        This is the first dataframe used for computing the mean and standard error.\n",
    "    sample_2: dataframe\n",
    "        This is the second dataframe used for computing the mean and standard error.\n",
    "    col_1: string\n",
    "        This is the column used for analysis within the first dataframe.\n",
    "    col_2: string\n",
    "        This is the column used for analysis within the second dataframe. \n",
    "    hypothsis_mean: float\n",
    "        Represents the null hypothesis mean, which is the value being tested against the sample means to \n",
    "        determine whether the difference between them is statistically significant. \n",
    "        The default is 0. \n",
    "\n",
    "    Returns:\n",
    "    --------\n",
    "    \n",
    "    '''\n",
    "    mean_1, se_1 = get_mean_and_se(sample_1, col_1)\n",
    "    mean_2, se_2 = get_mean_and_se(sample_2, col_2)\n",
    "\n",
    "    t_2_samp = ((mean_1 - mean_2) - hypothesis_mean) / np.sqrt((se_1**2 + se_2**2))\n",
    "    return t_2_samp\n"
   ]
  },
  {
   "cell_type": "code",
   "execution_count": null,
   "metadata": {},
   "outputs": [],
   "source": [
    "def confidence_interval_diff_mean(control_sample, treamtent_sample, col_1, col_2, sig):\n",
    "    ''' '''\n",
    "\n",
    "    control_mean, se_1 = get_mean_and_se(control_sample, col_1)\n",
    "    treatment_mean, se_2 = get_mean_and_se(treamtent_sample, col_2)\n",
    "    dof = (len(control_sample) - 1) + (len(treamtent_sample) - 1)\n",
    "    test_kind = 'two-tail'\n",
    "\n",
    "\n",
    "    sample_stat = treatment_mean - control_mean\n",
    "    se = np.sqrt(se_1**2 + se_2**2)\n",
    "\n",
    "    crit_value = critical_value(sig, dof, test_kind='two-tail')\n",
    "\n",
    "    lower = sample_stat - crit_value * se\n",
    "    upper = sample_stat + crit_value * se\n",
    "\n",
    "    print(f'{sample_stat=}, {se=}, {crit_value=}')\n",
    "\n",
    "    return lower, upper "
   ]
  },
  {
   "cell_type": "code",
   "execution_count": 121,
   "metadata": {},
   "outputs": [
    {
     "name": "stdout",
     "output_type": "stream",
     "text": [
      "mean_a=3.3745184679288442, se_a=0.16623500765257104,\n",
      "mean_b=3.390866945885783, se_b=0.16203444463703556\n",
      "sig=0.05 dof=24342\n",
      "sig=0.05 dof=24599\n",
      "Group A: [3.049 3.7  ]\n",
      "Group B: 3.073, 3.708\n",
      "t-statistic =  -0.0704249099975012\n",
      "t-statistic:   -0.07042490999751674\n",
      "p-value: 0.943855753172874\n",
      "Conclusion: Fail to reject the null hypothesis\n",
      "sig=0.05 dof=48941\n",
      "sample_stat=0.016348477956938723, se=0.23214055875284462, crit_value=1.9600124577813611\n",
      "(-0.4386499091549627, 0.47134686506884016)\n"
     ]
    }
   ],
   "source": [
    "# Isolate the data for the Control group: A\n",
    "\n",
    "df_a = df[df[\"group\"]==\"A\"]\n",
    "\n",
    "# Isolate the data for the Treatment group: B\n",
    "\n",
    "df_b = df[df[\"group\"]==\"B\"]\n",
    "\n",
    "# Set the significance level (alpha) to 5%\n",
    "# Giving us a confidence level of 95%\n",
    "\n",
    "sig = 0.05\n",
    "\n",
    "# Calculate the mean and standard error of the Control Group: A\n",
    "\n",
    "mean_a, se_a = get_mean_and_se(df_a, \"total_spent_per_user\")\n",
    "\n",
    "# Calculate the mean and standard error of the Control Group: A\n",
    "\n",
    "mean_b, se_b = get_mean_and_se(df_b, \"total_spent_per_user\")\n",
    "\n",
    "# Print means and standard errors\n",
    "print(f'{mean_a=}, {se_a=},\\n{mean_b=}, {se_b=}')\n",
    "\n",
    "\n",
    "critical_a = critical_value(sig, dof=len(df_a) - 1)\n",
    "critical_b = critical_value(sig, dof=len(df_b) - 1)\n",
    "\n",
    "confidence_interval_a = confidence_interval(mean_a, se_a, critical_a)\n",
    "confidence_interval_b = confidence_interval(mean_b, se_b, critical_b)\n",
    "\n",
    "\n",
    "print(f'Group A: {np.round(confidence_interval_a, 3)}')\n",
    "print('Group B: {:.4}, {:.4}'.format(*confidence_interval_b))\n",
    "\n",
    "\n",
    "t_stat_2_samp = t_test_statistic_2_samp(df_a, df_b, 'total_spent_per_user', 'total_spent_per_user', 0)\n",
    "\n",
    "print(\"t-statistic = \", t_stat_2_samp)\n",
    "\n",
    "# Conduct t-test assuming unequal variance\n",
    "t_stat, p_val = ttest_ind(df_a['total_spent_per_user'], df_b['total_spent_per_user'], equal_var=False)\n",
    "\n",
    "# Print results\n",
    "print(\"t-statistic:   {}\".format(t_stat))\n",
    "print(\"p-value: {}\".format(p_val))\n",
    "\n",
    "# Check significance level at 5%\n",
    "if p_val < 0.05:\n",
    "    print(\"Conclusion: Reject the null hypothesis\")\n",
    "else:\n",
    "    print(\"Conclusion: Fail to reject the null hypothesis\")\n",
    "\n",
    "\n",
    "ci_diff_mean = confidence_interval_diff_mean(df_a, df_b, 'total_spent_per_user', 'total_spent_per_user', 0.05)\n",
    "\n",
    "print(ci_diff_mean)\n",
    "\n"
   ]
  },
  {
   "cell_type": "code",
   "execution_count": 111,
   "metadata": {},
   "outputs": [
    {
     "data": {
      "text/plain": [
       "0.9438560436782142"
      ]
     },
     "execution_count": 111,
     "metadata": {},
     "output_type": "execute_result"
    }
   ],
   "source": [
    "# to get two sided p-value\n",
    "# 2 * (1 - t.cdf(absolute(t-statistic), dof))\n",
    "\n",
    "2*(1-t.cdf(np.abs(t_stat_2_samp), df=np.min([len(df_a)-1, len(df_b)-1])))"
   ]
  },
  {
   "cell_type": "code",
   "execution_count": 119,
   "metadata": {},
   "outputs": [
    {
     "name": "stdout",
     "output_type": "stream",
     "text": [
      "0.9438560436782142\n",
      "0.9438560436782018\n"
     ]
    }
   ],
   "source": [
    "# to get two sided p-value\n",
    "# 2 * (1 - t.cdf(absolute(t-statistic), dof))\n",
    "\n",
    "print(2*(1-t.cdf(np.abs(t_stat_2_samp), df=np.min([len(df_a)-1, len(df_b)-1]))))\n",
    "print(2*(1-t.cdf(np.abs(0.07042490999751674), df=np.min([len(df_a)-1, len(df_b)-1]))))"
   ]
  },
  {
   "cell_type": "code",
   "execution_count": 108,
   "metadata": {},
   "outputs": [
    {
     "data": {
      "text/plain": [
       "[<matplotlib.lines.Line2D at 0x7f8688d7f850>]"
      ]
     },
     "execution_count": 108,
     "metadata": {},
     "output_type": "execute_result"
    },
    {
     "data": {
      "image/png": "[encoded data removed]",
      "text/plain": [
       "<Figure size 640x480 with 1 Axes>"
      ]
     },
     "metadata": {},
     "output_type": "display_data"
    }
   ],
   "source": [
    "ts = np.linspace(-4, 4, 1000)\n",
    "cdf = t.cdf(ts, df=200)\n",
    "plt.plot(ts, cdf, '.')"
   ]
  },
  {
   "cell_type": "code",
   "execution_count": 122,
   "metadata": {},
   "outputs": [],
   "source": [
    "# What is the user conversion rate for the control and treatment groups?\n",
    "\n",
    "\n",
    "def conversion_rate(df, col):\n",
    "\n",
    "    con_rate = len(df[df[col] != 0]) / len(df)\n",
    "\n",
    "    return con_rate"
   ]
  },
  {
   "cell_type": "code",
   "execution_count": 134,
   "metadata": {},
   "outputs": [
    {
     "name": "stdout",
     "output_type": "stream",
     "text": [
      "conversion_a = 0.0392\n",
      "conversion_b = 0.0463\n"
     ]
    }
   ],
   "source": [
    "conversion_a = conversion_rate(df_a, \"total_spent_per_user\")\n",
    "\n",
    "conversion_a\n",
    "\n",
    "conversion_b = conversion_rate(df_b, \"total_spent_per_user\")\n",
    "\n",
    "# mean proportion\n",
    "\n",
    "print(f\"{conversion_a = :.4f}\\n{conversion_b = :.4f}\")"
   ]
  },
  {
   "cell_type": "code",
   "execution_count": null,
   "metadata": {},
   "outputs": [],
   "source": [
    "# set the significance level to 5%\n",
    "\n",
    "sig = 0.05"
   ]
  },
  {
   "cell_type": "code",
   "execution_count": 142,
   "metadata": {},
   "outputs": [],
   "source": [
    "def proportion_stats(df, col):\n",
    "\n",
    "    sample_statistic = len(df[df[col] != 0]) / len(df)\n",
    "    se = np.sqrt(sample_statistic*(1-sample_statistic)/len(df))\n",
    "    \n",
    "    return sample_statistic, se"
   ]
  },
  {
   "cell_type": "code",
   "execution_count": 143,
   "metadata": {},
   "outputs": [],
   "source": [
    "def critical_value_proportion(sig, test_kind='two-tail'):\n",
    "\n",
    "    '''Calculate critical value for various tests.\n",
    "\n",
    "    Parameters:\n",
    "    -----------\n",
    "    sig: float\n",
    "        Significance level between 0 and 1 e.g. 0.05\n",
    "    test_kind: string\n",
    "        Type of test i.e. left, right, two-tail. \n",
    "        Default is two-tail. \n",
    "\n",
    "    Returns: \n",
    "    --------\n",
    "    critical_value: float \n",
    "        The critical value.'''\n",
    "    from scipy.stats import norm\n",
    "    if test_kind == 'left':\n",
    "        crit = norm.ppf(q=sig)\n",
    "    elif test_kind == 'right':\n",
    "        crit = norm.ppf(q=1-sig)\n",
    "    else:\n",
    "        crit = norm.ppf(q=1-sig/2)\n",
    "    return crit"
   ]
  },
  {
   "cell_type": "code",
   "execution_count": 147,
   "metadata": {},
   "outputs": [
    {
     "name": "stdout",
     "output_type": "stream",
     "text": [
      "critical_df_a = 1.9600 \n",
      "df_a_sample_stat = 0.0392 \n",
      "df_a_prop_se = 0.0012 \n",
      "critical_df_b = 1.9600 \n",
      "df_b_sample_stat = 0.0463 \n",
      "df_b_prop_se = 0.0013\n"
     ]
    }
   ],
   "source": [
    "df_a_sample_stat, df_a_prop_se = proportion_stats(df_a, \"total_spent_per_user\")\n",
    "df_b_sample_stat, df_b_prop_se = proportion_stats(df_b, \"total_spent_per_user\")\n",
    "\n",
    "\n",
    "critical_df_a = critical_value_proportion(sig)\n",
    "critical_df_b = critical_value_proportion(sig)\n",
    "\n",
    "\n",
    "print(f'{critical_df_a = :.4f} \\n{df_a_sample_stat = :.4f} \\n{df_a_prop_se = :.4f} \\n{critical_df_b = :.4f} \\n{df_b_sample_stat = :.4f} \\n{df_b_prop_se = :.4f}')"
   ]
  },
  {
   "cell_type": "code",
   "execution_count": 154,
   "metadata": {},
   "outputs": [
    {
     "name": "stdout",
     "output_type": "stream",
     "text": [
      "df_a_proportion_conf = 0.0368, 0.0417\n"
     ]
    }
   ],
   "source": [
    "df_a_proportion_conf = confidence_interval(df_a_sample_stat, df_a_prop_se, critical_df_a)\n",
    "\n",
    "print('df_a_proportion_conf = {:.4f}, {:.4f}'.format(*df_a_proportion_conf))"
   ]
  },
  {
   "cell_type": "code",
   "execution_count": 155,
   "metadata": {},
   "outputs": [
    {
     "name": "stdout",
     "output_type": "stream",
     "text": [
      "df_b_proportion_conf = 0.0437, 0.0489\n"
     ]
    }
   ],
   "source": [
    "df_b_proportion_conf = confidence_interval(df_b_sample_stat, df_b_prop_se, critical_df_b)\n",
    "\n",
    "print('df_b_proportion_conf = {:.4f}, {:.4f}'.format(*df_b_proportion_conf))"
   ]
  },
  {
   "cell_type": "markdown",
   "metadata": {},
   "source": [
    "Conduct a hypothesis test to see whether there is a difference in the conversion rate between the two groups. What are the resulting p-value and conclusion?\n",
    "Use the normal distribution and a 5% significance level. Use the pooled proportion for the standard error."
   ]
  },
  {
   "cell_type": "code",
   "execution_count": 175,
   "metadata": {},
   "outputs": [],
   "source": [
    "def pooled_t_statistic(p1 , p2, df1, df2 ):\n",
    "\n",
    "    '''Computes the pooled t-statistic for two independent samples with known proportions.\n",
    "\n",
    "    Parameters\n",
    "    ----------\n",
    "    p1 : float\n",
    "        Proportion of successes in sample 1.\n",
    "    p2 : float\n",
    "        Proportion of successes in sample 2.\n",
    "    df1 : array-like\n",
    "        Sample 1.\n",
    "    df2 : array-like\n",
    "        Sample 2.\n",
    "\n",
    "    Returns\n",
    "    -------\n",
    "    pooled_t : float\n",
    "        The pooled t-statistic.\n",
    "\n",
    "    Notes\n",
    "    -----\n",
    "    The pooled t-statistic is used to test the hypothesis that two independent samples have equal population means. It assumes that the variances of the two populations are equal. The formula for the pooled t-statistic is:\n",
    "    pooled_t = (p1 - p2) / sqrt(p * (1 - p) * (1 / n1 + 1 / n2))\n",
    "\n",
    "        where:\n",
    "\n",
    "            - p is the pooled proportion of successes\n",
    "            - n1 and n2 are the sample sizes of sample 1 and sample 2, respectively'''\n",
    "\n",
    "\n",
    "    n1 = len(df1)\n",
    "    n2 = len(df2)\n",
    "\n",
    "    p = (p1 * n1 + p2 * n2) / (n1 + n2)\n",
    "\n",
    "    pooled_t = (p1-p2) / np.sqrt( p*(1-p) * (1/n1 + 1/n2) )\n",
    "\n",
    "    return pooled_t"
   ]
  },
  {
   "cell_type": "code",
   "execution_count": 176,
   "metadata": {},
   "outputs": [
    {
     "name": "stdout",
     "output_type": "stream",
     "text": [
      "-3.864291770414927\n"
     ]
    }
   ],
   "source": [
    "pooled_t_stat = pooled_t_statistic(df_a_sample_stat, df_b_sample_stat, df_a, df_b)\n",
    "\n",
    "print(pooled_t_stat)"
   ]
  },
  {
   "cell_type": "code",
   "execution_count": 177,
   "metadata": {},
   "outputs": [
    {
     "data": {
      "text/plain": [
       "0.00011141198532937935"
      ]
     },
     "execution_count": 177,
     "metadata": {},
     "output_type": "execute_result"
    }
   ],
   "source": [
    "2*(1-norm.cdf(np.abs(pooled_t_stat),))"
   ]
  },
  {
   "cell_type": "markdown",
   "metadata": {},
   "source": [
    "What is the 95% confidence interval for the difference in the conversion rate between the treatment and control (treatment-control)?\n",
    "Use the normal distribution and unpooled proportions for the standard error."
   ]
  },
  {
   "cell_type": "code",
   "execution_count": 178,
   "metadata": {},
   "outputs": [],
   "source": [
    "def se_unpooled_prop(p1 , p2, df1, df2):\n",
    "    '''Computes the unpooled standard-error for z-interval for two independent samples with known proportions.\n",
    "\n",
    "    Parameters\n",
    "    ----------\n",
    "    p1 : float\n",
    "        Proportion of successes in sample 1.\n",
    "    p2 : float\n",
    "        Proportion of successes in sample 2.\n",
    "    df1 : array-like\n",
    "        Sample 1.\n",
    "    df2 : array-like\n",
    "        Sample 2.\n",
    "\n",
    "    Returns\n",
    "    -------\n",
    "    unpooled_se : float\n",
    "        The unpooled standard-error.'''\n",
    "    \n",
    "    n1 = len(df1)\n",
    "    n2 = len(df2)\n",
    "    \n",
    "    unpooled_se = np.sqrt((p1*(1-p1)/n1) + (p2*(1-p2)/n2))\n",
    "\n",
    "    return unpooled_se"
   ]
  },
  {
   "cell_type": "code",
   "execution_count": 181,
   "metadata": {},
   "outputs": [
    {
     "data": {
      "text/plain": [
       "0.0018284884033368863"
      ]
     },
     "execution_count": 181,
     "metadata": {},
     "output_type": "execute_result"
    }
   ],
   "source": [
    "diff_prop_se = se_unpooled_prop(df_a_sample_stat , df_b_sample_stat, df_a, df_b)\n",
    "\n",
    "diff_prop_se"
   ]
  },
  {
   "cell_type": "code",
   "execution_count": 184,
   "metadata": {},
   "outputs": [
    {
     "data": {
      "text/plain": [
       "(0.0034860511629807105, 0.0106535939963596)"
      ]
     },
     "execution_count": 184,
     "metadata": {},
     "output_type": "execute_result"
    }
   ],
   "source": [
    "diff_prop_conf = confidence_interval((df_b_sample_stat - df_a_sample_stat), diff_prop_se, critical_df_a)\n",
    "\n",
    "diff_prop_conf"
   ]
  },
  {
   "cell_type": "code",
   "execution_count": null,
   "metadata": {},
   "outputs": [],
   "source": [
    "def unpooled_t_statistic(p1 , p2, df1, df2 ):\n",
    "\n",
    "    '''Computes the unpooled t-statistic for two independent samples with known proportions.\n",
    "\n",
    "    Parameters\n",
    "    ----------\n",
    "    p1 : float\n",
    "        Proportion of successes in sample 1.\n",
    "    p2 : float\n",
    "        Proportion of successes in sample 2.\n",
    "    df1 : array-like\n",
    "        Sample 1.\n",
    "    df2 : array-like\n",
    "        Sample 2.\n",
    "\n",
    "    Returns\n",
    "    -------\n",
    "    pooled_t : float\n",
    "        The pooled t-statistic.'''\n",
    "\n",
    "\n",
    "    n1 = len(df1)\n",
    "    n2 = len(df2)\n",
    "\n",
    "    \n",
    "\n",
    "    return unpooled_t"
   ]
  }
 ],
 "metadata": {
  "kernelspec": {
   "display_name": "Python 3",
   "language": "python",
   "name": "python3"
  },
  "language_info": {
   "codemirror_mode": {
    "name": "ipython",
    "version": 3
   },
   "file_extension": ".py",
   "mimetype": "text/x-python",
   "name": "python",
   "nbconvert_exporter": "python",
   "pygments_lexer": "ipython3",
   "version": "3.9.15"
  },
  "orig_nbformat": 4
 },
 "nbformat": 4,
 "nbformat_minor": 2
}
